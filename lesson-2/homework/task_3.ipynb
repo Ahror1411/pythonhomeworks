{
 "cells": [
  {
   "cell_type": "code",
   "execution_count": 1,
   "metadata": {},
   "outputs": [
    {
     "name": "stdout",
     "output_type": "stream",
     "text": [
      "Kiritilgan malumotlar togri.\n"
     ]
    }
   ],
   "source": [
    "logn= str(input(\"Logn: \"))\n",
    "parol=int(input(\"Parol: \"))\n",
    "list =['ahror1411','14112003']\n",
    "if logn in list:\n",
    "    print(\"Kiritilgan malumotlar togri.\")\n",
    "else:\n",
    "    print('Logn or parol hato.')    "
   ]
  },
  {
   "cell_type": "code",
   "execution_count": 4,
   "metadata": {},
   "outputs": [
    {
     "name": "stdout",
     "output_type": "stream",
     "text": [
      "Bu sonlar teng emas:\n"
     ]
    }
   ],
   "source": [
    "num1=str(input(\"Birinchi raqamni kiriting: \"))\n",
    "num2=str(input(\"Ikkinichi sonni kiriting:\" ))\n",
    "if num1==num2:\n",
    "    print(\"U sonlar teng.\")\n",
    "else :\n",
    "    print(\"Bu sonlar teng emas:\")\n",
    "        \n"
   ]
  },
  {
   "cell_type": "code",
   "execution_count": 8,
   "metadata": {},
   "outputs": [
    {
     "name": "stdout",
     "output_type": "stream",
     "text": [
      "Kiritilgan format notogri!\n"
     ]
    }
   ],
   "source": [
    "def sonni_tekshiruvchi_dastur(num):\n",
    "    if num <0:\n",
    "        qiymat= \"manfiy\"\n",
    "    elif num>0:\n",
    "        qiymat=\"musbat\"\n",
    "    else :\n",
    "        qiymat=\"nol\"\n",
    "    \n",
    "    if num % 2==0:\n",
    "        farq=\"juft\"\n",
    "    else:\n",
    "        farq=\"toq\"\n",
    "    return f\"Kiritilgan miqdor {qiymat} va {farq} son!\"\n",
    "try:\n",
    "    qiymat=int(input(\"Sonni kiritng: \"))\n",
    "    natija=sonni_tekshiruvchi_dastur(qiymat)\n",
    "    print(natija)\n",
    "except ValueError:\n",
    "    print('Kiritilgan format notogri!')\n"
   ]
  },
  {
   "cell_type": "code",
   "execution_count": 10,
   "metadata": {},
   "outputs": [
    {
     "name": "stdout",
     "output_type": "stream",
     "text": [
      "Bu sonlar bir biriga teng.\n"
     ]
    }
   ],
   "source": [
    "num1=int(input(\"Birinchi sonni kiriting:\"))\n",
    "num2=int(input(\"Ikkinchi  sonni kiriting:\"))\n",
    "num3=int(input(\"Uchinchi sonni kiriting:\"))\n",
    "if num1==num2==num3:\n",
    "    print('Bu sonlar bir biriga teng.')\n",
    "else :\n",
    "    print('Bu sonlar teng emas!')"
   ]
  },
  {
   "cell_type": "code",
   "execution_count": 13,
   "metadata": {},
   "outputs": [
    {
     "name": "stdout",
     "output_type": "stream",
     "text": [
      "Bu qatorlar teng emas!\n"
     ]
    }
   ],
   "source": [
    "def qatortlar (bir,ikki):\n",
    "    if len(bir)==len(ikki):\n",
    "        return'Bu qatorlar uzunligi teng.'\n",
    "    else :\n",
    "        return\"Bu qatorlar teng emas!\"\n",
    "    \n",
    "bir=str(input('Birinchi qatorni kiriting:'))\n",
    "ikki = str(input('Ikkinchi qatorni kiriting:'))\n",
    "natija=qatortlar(bir,ikki)\n",
    "print(natija)"
   ]
  },
  {
   "cell_type": "code",
   "execution_count": 18,
   "metadata": {},
   "outputs": [
    {
     "name": "stdout",
     "output_type": "stream",
     "text": [
      "Bu son na 3 na 5 ga bolinadi.\n"
     ]
    }
   ],
   "source": [
    "son=int(input(\"Sonni kiriting: \"))\n",
    "if son%5==0 and son%3==0:\n",
    "    print(\"Bu son 5 or 3 ga bolinadi.\")\n",
    "else:\n",
    "    print(\"Bu son na 3 na 5 ga bolinadi.\")"
   ]
  },
  {
   "cell_type": "code",
   "execution_count": 19,
   "metadata": {},
   "outputs": [
    {
     "name": "stdout",
     "output_type": "stream",
     "text": [
      "Bu sonlarning yigindisi 87, 50 dan katta!\n"
     ]
    }
   ],
   "source": [
    "def tekshirish ( a,b):\n",
    "    c=a+b\n",
    "    if c>50:\n",
    "        return f\"Bu sonlarning yigindisi {c}, 50 dan katta!\"\n",
    "    else :\n",
    "        return f\"Bu sonlarning tigindisi {c}, 50 dan kichik1\"\n",
    "    \n",
    "try:\n",
    "    a=int(input(\"Birinchi sonni kiriting: \"))\n",
    "    b=int(input(\"Ikkinchi sonni kiriting: \"))\n",
    "    natija=tekshirish(a,b)\n",
    "    print(natija)\n",
    "except ValueError:\n",
    "    print(\"Togri malumot kiriting!!!\")\n",
    "\n",
    "    "
   ]
  }
 ],
 "metadata": {
  "kernelspec": {
   "display_name": "Python 3",
   "language": "python",
   "name": "python3"
  },
  "language_info": {
   "codemirror_mode": {
    "name": "ipython",
    "version": 3
   },
   "file_extension": ".py",
   "mimetype": "text/x-python",
   "name": "python",
   "nbconvert_exporter": "python",
   "pygments_lexer": "ipython3",
   "version": "3.10.10"
  }
 },
 "nbformat": 4,
 "nbformat_minor": 2
}
