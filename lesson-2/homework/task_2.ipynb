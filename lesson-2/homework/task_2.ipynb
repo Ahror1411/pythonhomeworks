{
 "cells": [
  {
   "cell_type": "code",
   "execution_count": 3,
   "metadata": {},
   "outputs": [
    {
     "name": "stdout",
     "output_type": "stream",
     "text": [
      "['apple', 'banana', 'cherry']\n"
     ]
    }
   ],
   "source": [
    "fruits = 'apple banana cherry'\n",
    "print(fruits.split(\" \"))\n"
   ]
  },
  {
   "cell_type": "code",
   "execution_count": null,
   "metadata": {},
   "outputs": [],
   "source": [
    "input =input(\"Enter a word: \")\n",
    "reversed=input[::-1]\n",
    "\n",
    "if input == reversed:\n",
    "    print(\"Ha bu soz palindrom.\")\n",
    "    \n",
    "else:\n",
    "    print(\"Yoq bu soz palindrom emas.\")\n"
   ]
  },
  {
   "cell_type": "code",
   "execution_count": 5,
   "metadata": {},
   "outputs": [
    {
     "name": "stdout",
     "output_type": "stream",
     "text": [
      "['a', 'f', 'v', 'd', 'f', 'h', 'f', 'g', 'n']\n",
      "unlilar soni 1\n"
     ]
    }
   ],
   "source": [
    "input: str = input(\"Enter a word: \")\n",
    "list =[]\n",
    "vowels = ['a','e','i','o','u']\n",
    "vowels_count : int = 0 # unlilar soni\n",
    "\n",
    "\n",
    "for char in input:\n",
    "    list.append(char)\n",
    "    if char in vowels:\n",
    "        vowels_count += 1\n",
    "\n",
    "print(f\"unlilar soni {vowels_count}\")"
   ]
  },
  {
   "cell_type": "code",
   "execution_count": null,
   "metadata": {},
   "outputs": [],
   "source": [
    "def count_occurrences(lst, element):\n",
    "    return lst.count(element)\n",
    "\n",
    "\n",
    "my_list = [1, 2, 3, 4, 2, 2, 5, 2]\n",
    "element = 2\n",
    "print(count_occurrences(my_list, element)) "
   ]
  }
 ],
 "metadata": {
  "kernelspec": {
   "display_name": "Python 3",
   "language": "python",
   "name": "python3"
  },
  "language_info": {
   "codemirror_mode": {
    "name": "ipython",
    "version": 3
   },
   "file_extension": ".py",
   "mimetype": "text/x-python",
   "name": "python",
   "nbconvert_exporter": "python",
   "pygments_lexer": "ipython3",
   "version": "3.10.10"
  }
 },
 "nbformat": 4,
 "nbformat_minor": 2
}
